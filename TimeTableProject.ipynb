{
 "cells": [
  {
   "cell_type": "code",
   "execution_count": 120,
   "id": "b65da232-b71d-4ced-bc80-105cef0caeb7",
   "metadata": {},
   "outputs": [],
   "source": [
    "# Importing pandas for data manipulation and datetime for handling time-related operations\n",
    "import pandas as pd\n",
    "from datetime import datetime, timedelta"
   ]
  },
  {
   "cell_type": "code",
   "execution_count": 121,
   "id": "a64df76a-5ece-4c45-b9dc-8d745bd9597d",
   "metadata": {},
   "outputs": [],
   "source": [
    "# Defining constants for grades, start times, end time, and subjects\n",
    "grades = [\"Jr. KG\", \"Sr. KG\", \"1st\"]  # List of grades\n",
    "start_times = {\"1st\": \"8:15 AM\", \"Jr. KG\": \"10:15 AM\", \"Sr. KG\": \"10:15 AM\"}  # Start times for each grade\n",
    "end_time = \"2:15 PM\"  # End time for each school day\n",
    "period_duration = 30  # Duration of each period in minutes\n",
    "\n",
    "# Subjects to be taught in a day\n",
    "subjects = [\"English\", \"Math\", \"EVS\", \"Art\", \"Music\", \"PE\", \"Yoga\", \"Computer Studies\"]\n"
   ]
  },
  {
   "cell_type": "code",
   "execution_count": 122,
   "id": "51f7c551-956f-436e-be8b-1283b5201876",
   "metadata": {},
   "outputs": [],
   "source": [
    "# Defining breaks for each grade\n",
    "breaks = {\n",
    "    \"1st\": [\n",
    "        (\"09:25 AM - 09:45 AM\", \"Snack Break\"),  # Snack break for 1st grade\n",
    "        (\"12:45 PM - 01:15 PM\", \"Lunch Break\")   # Lunch break for 1st grade\n",
    "    ],\n",
    "    \"Jr. KG\": [\n",
    "        (\"12:45 PM - 01:15 PM\", \"Lunch Break\")   # Lunch break for Jr. KG\n",
    "    ],\n",
    "    \"Sr. KG\": [\n",
    "        (\"12:45 PM - 01:15 PM\", \"Lunch Break\")   # Lunch break for Sr. KG\n",
    "    ]\n",
    "}\n",
    "\n",
    "# Assembly details\n",
    "assembly_time = \"10:45 AM\"  # The time of assembly\n",
    "assembly_day = \"Tuesday\"    # The day of assembly\n",
    "dispersal_time = \"2:15 PM - 2:20 PM\"  # Dispersal time after school\n"
   ]
  },
  {
   "cell_type": "code",
   "execution_count": 123,
   "id": "1701ea52-dc3b-4d41-84d7-bf1ca96b9d89",
   "metadata": {},
   "outputs": [],
   "source": [
    "# Function to generate time slots between start and end times\n",
    "def create_time_slots(start_time, end_time, period_duration):\n",
    "    start = datetime.strptime(start_time, \"%I:%M %p\")  # Convert start time to datetime object\n",
    "    end = datetime.strptime(end_time, \"%I:%M %p\")  # Convert end time to datetime object\n",
    "    slots = []  # List to store the time slots\n",
    "\n",
    "    # Looping through each period and calculate the end time\n",
    "    while start < end:\n",
    "        period_end = start + timedelta(minutes=period_duration)  # Calculate the end time of the period\n",
    "        slots.append(f\"{start.strftime('%I:%M %p')} - {period_end.strftime('%I:%M %p')}\")  # Add the time slot\n",
    "        start = period_end  # Move the start time to the end of the current period\n",
    "\n",
    "    # Adding the dispersal time at the end of the day\n",
    "    slots.append(dispersal_time)\n",
    "    return slots  # Return the generated time slots\n"
   ]
  },
  {
   "cell_type": "code",
   "execution_count": 124,
   "id": "a65bce29-9f61-44f3-bea2-676f6d728611",
   "metadata": {},
   "outputs": [],
   "source": [
    "# Function to generate timetables for each grade\n",
    "def generate_timetable(grades, start_times, end_time, subjects, breaks, assembly_time, assembly_day):\n",
    "    timetables = {}  # Dictionary to store the timetable for each grade\n",
    "    days_of_week = [\"Monday\", \"Tuesday\", \"Wednesday\", \"Thursday\", \"Friday\"]  # List of days in the week\n",
    "\n",
    "    # Looping through each grade to generate a timetable\n",
    "    for grade in grades:\n",
    "        # Generating time slots for the grade\n",
    "        slots = create_time_slots(start_times[grade], end_time, period_duration)\n",
    "        timetable = {day: [] for day in days_of_week}  # Initialize an empty timetable for each day of the week\n",
    "\n",
    "        subject_index = 0  # Index to keep track of the subject for each time slot\n",
    "\n",
    "        # Looping through each day of the week\n",
    "        for day in days_of_week:\n",
    "            break_index = 0  # Reset break index for each day\n",
    "            for slot in slots:\n",
    "                # Checking if the current slot is a break time\n",
    "                if break_index < len(breaks[grade]) and slot == breaks[grade][break_index][0]:\n",
    "                    timetable[day].append(breaks[grade][break_index][1])  # Add the break (Snack or Lunch)\n",
    "                    break_index += 1  # Move to the next break time\n",
    "                # Adding assembly on the specified day and time\n",
    "                elif slot == assembly_time and day == assembly_day:\n",
    "                    timetable[day].append(\"Assembly\")\n",
    "                # Adding dispersal time\n",
    "                elif slot == dispersal_time:\n",
    "                    timetable[day].append(\"Dispersal\")\n",
    "                # For other slots, assigning subjects\n",
    "                else:\n",
    "                    timetable[day].append(subjects[subject_index % len(subjects)])  # Assign subject based on index\n",
    "                    subject_index += 1  # Move to the next subject\n",
    "\n",
    "        # Converting the timetable to a DataFrame for better readability and organization\n",
    "        timetable_df = pd.DataFrame(timetable, index=slots)\n",
    "        timetables[grade] = timetable_df  # Store the timetable for the grade\n",
    "\n",
    "        # Save the timetable to a CSV file\n",
    "        filename = f\"{grade}_Timetable.csv\"\n",
    "        timetable_df.to_csv(filename)  # Save the timetable as a CSV file\n",
    "        print(f\"Timetable for {grade} saved as '{filename}'\")  # Print confirmation message\n",
    "\n",
    "    return timetables  # Return the complete timetables for all grades\n"
   ]
  },
  {
   "cell_type": "code",
   "execution_count": 125,
   "id": "80d598c8-d857-4de8-be6c-fe0a5852c0d1",
   "metadata": {},
   "outputs": [
    {
     "name": "stdout",
     "output_type": "stream",
     "text": [
      "Timetable for Jr. KG saved as 'Jr. KG_Timetable.csv'\n",
      "Timetable for Sr. KG saved as 'Sr. KG_Timetable.csv'\n",
      "Timetable for 1st saved as '1st_Timetable.csv'\n"
     ]
    }
   ],
   "source": [
    "# Call the function to generate timetables and print them\n",
    "timetables = generate_timetable(grades, start_times, end_time, subjects, breaks, assembly_time, assembly_day)\n"
   ]
  },
  {
   "cell_type": "code",
   "execution_count": null,
   "id": "aabdfd17-5c5a-487e-a562-7c5f65751eaa",
   "metadata": {},
   "outputs": [],
   "source": []
  }
 ],
 "metadata": {
  "kernelspec": {
   "display_name": "Python 3",
   "language": "python",
   "name": "python3"
  },
  "language_info": {
   "codemirror_mode": {
    "name": "ipython",
    "version": 3
   },
   "file_extension": ".py",
   "mimetype": "text/x-python",
   "name": "python",
   "nbconvert_exporter": "python",
   "pygments_lexer": "ipython3",
   "version": "3.12.5"
  }
 },
 "nbformat": 4,
 "nbformat_minor": 5
}
